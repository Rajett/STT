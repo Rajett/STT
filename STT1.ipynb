{
  "nbformat": 4,
  "nbformat_minor": 0,
  "metadata": {
    "colab": {
      "provenance": [],
      "authorship_tag": "ABX9TyMKa+n+hYzQIDc4AXS6Murb",
      "include_colab_link": true
    },
    "kernelspec": {
      "name": "python3",
      "display_name": "Python 3"
    },
    "language_info": {
      "name": "python"
    }
  },
  "cells": [
    {
      "cell_type": "markdown",
      "metadata": {
        "id": "view-in-github",
        "colab_type": "text"
      },
      "source": [
        "<a href=\"https://colab.research.google.com/github/Rajett/STT/blob/main/STT1.ipynb\" target=\"_parent\"><img src=\"https://colab.research.google.com/assets/colab-badge.svg\" alt=\"Open In Colab\"/></a>"
      ]
    },
    {
      "cell_type": "code",
      "execution_count": null,
      "metadata": {
        "colab": {
          "base_uri": "https://localhost:8080/"
        },
        "id": "50T_4mZ82KWI",
        "outputId": "e6b5f6ac-596d-4eb5-850c-125d30e6a47a"
      },
      "outputs": [
        {
          "output_type": "stream",
          "name": "stdout",
          "text": [
            "  Installing build dependencies ... \u001b[?25l\u001b[?25hdone\n",
            "  Getting requirements to build wheel ... \u001b[?25l\u001b[?25hdone\n",
            "  Preparing metadata (pyproject.toml) ... \u001b[?25l\u001b[?25hdone\n",
            "  Building wheel for transformers (pyproject.toml) ... \u001b[?25l\u001b[?25hdone\n"
          ]
        }
      ],
      "source": [
        "!pip install git+https://github.com/huggingface/transformers -q\n",
        "!pip install pydub sounddevice numpy scipy -q\n"
      ]
    },
    {
      "cell_type": "code",
      "source": [
        "from google.colab import output, widgets\n",
        "import io\n",
        "import base64\n",
        "from IPython.display import Javascript, display\n",
        "from transformers import pipeline\n",
        "\n",
        "# Charger Whisper\n",
        "whisper = pipeline(\"automatic-speech-recognition\", model=\"openai/whisper-medium\")\n",
        "\n",
        "# JavaScript pour enregistrer l'audio (avec un vrai bouton)\n",
        "record_js = \"\"\"\n",
        "    async function recordAudio() {\n",
        "        const stream = await navigator.mediaDevices.getUserMedia({ audio: true });\n",
        "        const mediaRecorder = new MediaRecorder(stream);\n",
        "        let audioChunks = [];\n",
        "\n",
        "        mediaRecorder.ondataavailable = event => {\n",
        "            audioChunks.push(event.data);\n",
        "        };\n",
        "\n",
        "        mediaRecorder.start();\n",
        "        document.getElementById(\"status\").innerText = \"🎙️ Enregistrement en cours... Parle maintenant !\";\n",
        "\n",
        "        await new Promise(resolve => setTimeout(resolve, 5000));  // Enregistrement 5 sec\n",
        "        mediaRecorder.stop();\n",
        "\n",
        "        await new Promise(resolve => mediaRecorder.onstop = resolve);\n",
        "        document.getElementById(\"status\").innerText = \"✅ Enregistrement terminé !\";\n",
        "\n",
        "        const audioBlob = new Blob(audioChunks, { type: 'audio/wav' });\n",
        "        const reader = new FileReader();\n",
        "        reader.readAsDataURL(audioBlob);\n",
        "        await new Promise(resolve => reader.onloadend = resolve);\n",
        "\n",
        "        google.colab.kernel.invokeFunction(\"notebook.save_audio\", [reader.result.split(',')[1]], {});\n",
        "    }\n",
        "\n",
        "    function createButton() {\n",
        "        let btn = document.createElement(\"button\");\n",
        "        btn.innerHTML = \"🎤 Cliquer pour enregistrer\";\n",
        "        btn.style.padding = \"10px\";\n",
        "        btn.style.fontSize = \"16px\";\n",
        "        btn.style.cursor = \"pointer\";\n",
        "        btn.onclick = recordAudio;\n",
        "\n",
        "        let status = document.createElement(\"p\");\n",
        "        status.id = \"status\";\n",
        "        status.innerText = \"Clique sur le bouton pour commencer l'enregistrement.\";\n",
        "\n",
        "        document.body.appendChild(btn);\n",
        "        document.body.appendChild(status);\n",
        "    }\n",
        "\n",
        "    createButton();\n",
        "\"\"\"\n",
        "\n",
        "# Fonction pour sauvegarder l’audio\n",
        "def save_audio(encoded_audio):\n",
        "    audio_data = base64.b64decode(encoded_audio)\n",
        "    with open(\"my_audio.wav\", \"wb\") as f:\n",
        "        f.write(audio_data)\n",
        "    print(\"✅ Enregistrement sauvegardé sous 'my_audio.wav'\")\n",
        "\n",
        "# Lier le JavaScript avec Python\n",
        "output.register_callback(\"notebook.save_audio\", save_audio)\n",
        "\n",
        "# Afficher le bouton d'enregistrement\n",
        "display(Javascript(record_js))\n"
      ],
      "metadata": {
        "colab": {
          "base_uri": "https://localhost:8080/",
          "height": 230
        },
        "id": "wgGXiT4g3OXj",
        "outputId": "8b5f9910-ea6a-45df-879f-ac19dfe4653b"
      },
      "execution_count": null,
      "outputs": [
        {
          "output_type": "stream",
          "name": "stderr",
          "text": [
            "Device set to use cpu\n"
          ]
        },
        {
          "output_type": "display_data",
          "data": {
            "text/plain": [
              "<IPython.core.display.Javascript object>"
            ],
            "application/javascript": [
              "\n",
              "    async function recordAudio() {\n",
              "        const stream = await navigator.mediaDevices.getUserMedia({ audio: true });\n",
              "        const mediaRecorder = new MediaRecorder(stream);\n",
              "        let audioChunks = [];\n",
              "\n",
              "        mediaRecorder.ondataavailable = event => {\n",
              "            audioChunks.push(event.data);\n",
              "        };\n",
              "\n",
              "        mediaRecorder.start();\n",
              "        document.getElementById(\"status\").innerText = \"🎙️ Enregistrement en cours... Parle maintenant !\";\n",
              "\n",
              "        await new Promise(resolve => setTimeout(resolve, 5000));  // Enregistrement 5 sec\n",
              "        mediaRecorder.stop();\n",
              "\n",
              "        await new Promise(resolve => mediaRecorder.onstop = resolve);\n",
              "        document.getElementById(\"status\").innerText = \"✅ Enregistrement terminé !\";\n",
              "\n",
              "        const audioBlob = new Blob(audioChunks, { type: 'audio/wav' });\n",
              "        const reader = new FileReader();\n",
              "        reader.readAsDataURL(audioBlob);\n",
              "        await new Promise(resolve => reader.onloadend = resolve);\n",
              "\n",
              "        google.colab.kernel.invokeFunction(\"notebook.save_audio\", [reader.result.split(',')[1]], {});\n",
              "    }\n",
              "\n",
              "    function createButton() {\n",
              "        let btn = document.createElement(\"button\");\n",
              "        btn.innerHTML = \"🎤 Cliquer pour enregistrer\";\n",
              "        btn.style.padding = \"10px\";\n",
              "        btn.style.fontSize = \"16px\";\n",
              "        btn.style.cursor = \"pointer\";\n",
              "        btn.onclick = recordAudio;\n",
              "        \n",
              "        let status = document.createElement(\"p\");\n",
              "        status.id = \"status\";\n",
              "        status.innerText = \"Clique sur le bouton pour commencer l'enregistrement.\";\n",
              "\n",
              "        document.body.appendChild(btn);\n",
              "        document.body.appendChild(status);\n",
              "    }\n",
              "\n",
              "    createButton();\n"
            ]
          },
          "metadata": {}
        },
        {
          "output_type": "stream",
          "name": "stdout",
          "text": [
            "✅ Enregistrement sauvegardé sous 'my_audio.wav'\n",
            "✅ Enregistrement sauvegardé sous 'my_audio.wav'\n",
            "✅ Enregistrement sauvegardé sous 'my_audio.wav'\n",
            "✅ Enregistrement sauvegardé sous 'my_audio.wav'\n",
            "✅ Enregistrement sauvegardé sous 'my_audio.wav'\n",
            "✅ Enregistrement sauvegardé sous 'my_audio.wav'\n",
            "✅ Enregistrement sauvegardé sous 'my_audio.wav'\n"
          ]
        }
      ]
    },
    {
      "cell_type": "code",
      "source": [
        "text = whisper(\"my_audio.wav\")\n",
        "print(\"📝 Tu as dit :\", text[\"text\"])\n"
      ],
      "metadata": {
        "colab": {
          "base_uri": "https://localhost:8080/"
        },
        "id": "YG_Ol7d26q8m",
        "outputId": "f0b0f136-a374-4576-e6c5-76da0a237d81"
      },
      "execution_count": null,
      "outputs": [
        {
          "output_type": "stream",
          "name": "stderr",
          "text": [
            "/usr/local/lib/python3.11/dist-packages/transformers/models/whisper/generation_whisper.py:573: FutureWarning: The input name `inputs` is deprecated. Please make sure to use `input_features` instead.\n",
            "  warnings.warn(\n"
          ]
        },
        {
          "output_type": "stream",
          "name": "stdout",
          "text": [
            "📝 Tu as dit :  Bonjour, comment ça va? Vous allez à l'école?\n"
          ]
        }
      ]
    }
  ]
}